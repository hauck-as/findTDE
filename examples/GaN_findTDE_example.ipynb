{
 "cells": [
  {
   "cell_type": "markdown",
   "id": "8fcef3ff-6926-44bf-a5b6-ab5813407a5c",
   "metadata": {},
   "source": [
    "# GaN findTDE Analysis Example"
   ]
  },
  {
   "cell_type": "code",
   "execution_count": 1,
   "id": "0c06ec6e-758a-4baa-9c82-bccd3af35203",
   "metadata": {},
   "outputs": [],
   "source": [
    "import os\n",
    "import glob\n",
    "from pathlib import Path\n",
    "\n",
    "import subprocess\n",
    "import re\n",
    "import fortranformat as ff\n",
    "import pprint\n",
    "\n",
    "import numpy as np\n",
    "import pandas as pd\n",
    "\n",
    "import matplotlib as mpl\n",
    "import matplotlib.pyplot as plt\n",
    "from mpl_toolkits.mplot3d import Axes3D\n",
    "import plotly.graph_objects as go\n",
    "import plotly.express as px\n",
    "from plotly.subplots import make_subplots\n",
    "import plotly.io as pio\n",
    "# import seaborn as sns\n",
    "\n",
    "from findtde.tde_analysis import *"
   ]
  },
  {
   "cell_type": "markdown",
   "id": "0c3002bc-ee4d-4572-8cab-1cd0424e73b4",
   "metadata": {},
   "source": [
    "## VASP"
   ]
  },
  {
   "cell_type": "code",
   "execution_count": 2,
   "id": "79d737a7-2c5d-49d8-9282-bb592498300d",
   "metadata": {},
   "outputs": [
    {
     "name": "stdout",
     "output_type": "stream",
     "text": [
      "/storage/work/ash5615/bin/findTDE/examples/GaN_VASP\n"
     ]
    }
   ],
   "source": [
    "vasp_path = Path.cwd() / 'GaN_VASP'\n",
    "print(vasp_path)"
   ]
  },
  {
   "cell_type": "code",
   "execution_count": 8,
   "id": "0eeee132-5b60-43b0-b6f6-63b6f511d056",
   "metadata": {},
   "outputs": [],
   "source": [
    "vasp_ref_file = vasp_path / 'inp' / 'POSCAR'\n",
    "pos_f = open(vasp_ref_file, 'r')\n",
    "pos_lines = pos_f.readlines()\n",
    "pos_f.close()\n",
    "\n",
    "# open POSCAR file and read lattice vector lines into a list\n",
    "ai = [pos_lines[2][1:-1], pos_lines[3][1:-1], pos_lines[4][1:-1]]\n",
    "\n",
    "# convert lattice vectors line from POSCAR file from Fortran to a list\n",
    "lat_vec_line = ff.FortranRecordReader('(3F22.16)')\n",
    "vasp_lattice_vecs = np.array([lat_vec_line.read(ai[j]) for j in range(len(ai))])\n",
    "vasp_params = np.array([np.linalg.norm(vasp_lattice_vecs[0, :]), np.linalg.norm(vasp_lattice_vecs[1, :]), np.linalg.norm(vasp_lattice_vecs[2, :])])"
   ]
  },
  {
   "cell_type": "markdown",
   "id": "4783312b-09c7-4d56-bad9-3261c713900f",
   "metadata": {},
   "source": [
    "Each calculation direction is checked for common errors. A tuple of nested dictionaries is created with the first dictionary summarizing any errors found and the second dictionary showing all the checks performed. Each dictionary uses the direction pseudo/atom type and number (e.g., 1L_ga34) for the keys with secondary dictionaries as the values. These dictionaries show if the TDE is found, if the velocity vector correctly corresponds to the chosen atom type and index, if the velocity vector correctly corresponds to the chosen KE value (within a specified tolerance), and if the final temperature at the end of the CGM relaxation is sufficiently low (below a specified tolerance ratio)."
   ]
  },
  {
   "cell_type": "code",
   "execution_count": 9,
   "id": "de9777d6-77c5-4f09-909f-d9db696ea20d",
   "metadata": {},
   "outputs": [
    {
     "data": {
      "text/plain": [
       "({},\n",
       " {'1L_ga34': {'tde': [True],\n",
       "   'knockout': [True, True, True, True, True, True],\n",
       "   'ke': [True, True, True, True, True, True],\n",
       "   'temp': [True, True, True, True, True, True]}})"
      ]
     },
     "execution_count": 9,
     "metadata": {},
     "output_type": "execute_result"
    }
   ],
   "source": [
    "check_find_tde_runs(tde_calc_dir=vasp_path, program='vasp', ke_tol=1, temp_tol=0.6)"
   ]
  },
  {
   "cell_type": "markdown",
   "id": "b85458a1-f88c-4b0b-a76a-0d866d35d4f1",
   "metadata": {},
   "source": [
    "The data from all direction calculations in the directory is gathered into a single CSV file. The final energy difference from the energy of the perfect supercell calculation is also computed, where the perfect supercell energy is read from the OUTCAR file in the perfect directory."
   ]
  },
  {
   "cell_type": "code",
   "execution_count": 10,
   "id": "b18987c5-d496-46c7-ad9d-3052ee00aafd",
   "metadata": {},
   "outputs": [],
   "source": [
    "tde_data_gather(ofile=(vasp_path / 'all_tde_data.csv'), tde_calc_dir=vasp_path)"
   ]
  },
  {
   "cell_type": "markdown",
   "id": "c13e5bbb-3293-4b8e-a1e7-877c344d3bd1",
   "metadata": {},
   "source": [
    "The analysis function returns a tuple with two dictionaries. The first dictionary uses the knockout atom type and number (e.g., ga34) as the keys and tuples containing two pandas DataFrames as the values. The first DataFrame is the final energy for each calculation direction at each simulated kinetic energy, and the second DataFrame is the same but for the final energy difference from the perfect crystal energy (calculated in the data gather step). The second dictionary contains the keys corresponding the lattice direction pseudos (e.g., 1L) to the associated knockout directions (e.g., \\[-1 4 1\\])"
   ]
  },
  {
   "cell_type": "code",
   "execution_count": 10,
   "id": "cf8d101a-6adb-4dc8-a1ea-6a59b78896bd",
   "metadata": {},
   "outputs": [],
   "source": [
    "all_find_tde_dfs, pseudo_keys = find_tde_analysis(['ga'], [34], datafile=(vasp_path / 'all_tde_data.csv'), keyfile=(vasp_path / 'latt_dirs_to_calc.csv'))"
   ]
  },
  {
   "cell_type": "code",
   "execution_count": 15,
   "id": "b0e096cf-d699-4544-a3fb-77dcd32213cd",
   "metadata": {},
   "outputs": [
    {
     "data": {
      "text/plain": [
       "{'ga34': (             1L\n",
       "  25 -1823.366892\n",
       "  33 -1823.366856\n",
       "  34 -1811.867811\n",
       "  35 -1811.868307\n",
       "  37 -1811.829686\n",
       "  41 -1811.869515,\n",
       "             1L\n",
       "  25   0.000913\n",
       "  33   0.000949\n",
       "  34  11.499994\n",
       "  35  11.499498\n",
       "  37  11.538119\n",
       "  41  11.498290)}"
      ]
     },
     "execution_count": 15,
     "metadata": {},
     "output_type": "execute_result"
    }
   ],
   "source": [
    "all_find_tde_dfs"
   ]
  },
  {
   "cell_type": "code",
   "execution_count": 16,
   "id": "7b24daa0-3653-4072-b782-6e407ea515f8",
   "metadata": {},
   "outputs": [
    {
     "data": {
      "text/plain": [
       "{np.str_('1L'): array(['-1', '4', '1'], dtype='<U2')}"
      ]
     },
     "execution_count": 16,
     "metadata": {},
     "output_type": "execute_result"
    }
   ],
   "source": [
    "pseudo_keys"
   ]
  },
  {
   "cell_type": "code",
   "execution_count": 17,
   "id": "f8ddf764-d63b-4ae9-8d50-06036fe8c4e7",
   "metadata": {},
   "outputs": [],
   "source": [
    "find_tde_df = all_find_tde_dfs['ga34'][1]"
   ]
  },
  {
   "cell_type": "code",
   "execution_count": 18,
   "id": "145fb6e8-77a8-47d6-872c-f04f2a3f772a",
   "metadata": {},
   "outputs": [
    {
     "data": {
      "text/html": [
       "<div>\n",
       "<style scoped>\n",
       "    .dataframe tbody tr th:only-of-type {\n",
       "        vertical-align: middle;\n",
       "    }\n",
       "\n",
       "    .dataframe tbody tr th {\n",
       "        vertical-align: top;\n",
       "    }\n",
       "\n",
       "    .dataframe thead th {\n",
       "        text-align: right;\n",
       "    }\n",
       "</style>\n",
       "<table border=\"1\" class=\"dataframe\">\n",
       "  <thead>\n",
       "    <tr style=\"text-align: right;\">\n",
       "      <th></th>\n",
       "      <th>1L</th>\n",
       "    </tr>\n",
       "  </thead>\n",
       "  <tbody>\n",
       "    <tr>\n",
       "      <th>25</th>\n",
       "      <td>0.000913</td>\n",
       "    </tr>\n",
       "    <tr>\n",
       "      <th>33</th>\n",
       "      <td>0.000949</td>\n",
       "    </tr>\n",
       "    <tr>\n",
       "      <th>34</th>\n",
       "      <td>11.499994</td>\n",
       "    </tr>\n",
       "    <tr>\n",
       "      <th>35</th>\n",
       "      <td>11.499498</td>\n",
       "    </tr>\n",
       "    <tr>\n",
       "      <th>37</th>\n",
       "      <td>11.538119</td>\n",
       "    </tr>\n",
       "    <tr>\n",
       "      <th>41</th>\n",
       "      <td>11.498290</td>\n",
       "    </tr>\n",
       "  </tbody>\n",
       "</table>\n",
       "</div>"
      ],
      "text/plain": [
       "           1L\n",
       "25   0.000913\n",
       "33   0.000949\n",
       "34  11.499994\n",
       "35  11.499498\n",
       "37  11.538119\n",
       "41  11.498290"
      ]
     },
     "execution_count": 18,
     "metadata": {},
     "output_type": "execute_result"
    }
   ],
   "source": [
    "find_tde_df"
   ]
  },
  {
   "cell_type": "markdown",
   "id": "736e9749-45fe-4834-afe3-29cb59e26f61",
   "metadata": {},
   "source": [
    "The DataFrames can also be converted into arrays that associate the directions with the TDE values which are better suited for plotting purposes. Within this conversion, any runs above the kinetic energy cutoff can be removed, and the directions can be re-oriented if the if the reference structure does not correspond with the desired $x$-axis. In this example, the $a$ lattice vector is re-oriented along the $x$-axis."
   ]
  },
  {
   "cell_type": "code",
   "execution_count": 19,
   "id": "db59cbb5-1f31-4140-891a-b2cbc08c974b",
   "metadata": {},
   "outputs": [],
   "source": [
    "tde_sph_arr, tde_pseudos = generate_tde_sph_arr(find_tde_df, pseudo_keys, lattice_vecs=vasp_lattice_vecs, e_tol=1.0, ke_cut=45, polar_offset=angle_between([1., 0., 0.], vasp_lattice_vecs[0]))"
   ]
  },
  {
   "cell_type": "code",
   "execution_count": 20,
   "id": "f9be0172-0c0b-4ac4-953c-f5dc5e626f52",
   "metadata": {},
   "outputs": [
    {
     "data": {
      "text/plain": [
       "array([[130.8900206,  77.96     ,  34.       ]])"
      ]
     },
     "execution_count": 20,
     "metadata": {},
     "output_type": "execute_result"
    }
   ],
   "source": [
    "tde_sph_arr"
   ]
  },
  {
   "cell_type": "code",
   "execution_count": 21,
   "id": "c34fea72-943b-48ab-97b7-3a6af13b7917",
   "metadata": {},
   "outputs": [
    {
     "data": {
      "text/plain": [
       "dict_keys([np.str_('1L')])"
      ]
     },
     "execution_count": 21,
     "metadata": {},
     "output_type": "execute_result"
    }
   ],
   "source": [
    "tde_pseudos"
   ]
  },
  {
   "cell_type": "code",
   "execution_count": null,
   "id": "f8a3ddb5-ebf9-4d05-b95a-da619f7a25cf",
   "metadata": {},
   "outputs": [],
   "source": [
    "generate_tde_line_plot(find_tde_df, im_write=False, im_name='tde_lineplot.png')"
   ]
  },
  {
   "cell_type": "code",
   "execution_count": null,
   "id": "a92e0488-49bd-49ab-9fda-94d4b0359efa",
   "metadata": {},
   "outputs": [],
   "source": [
    "generate_tde_scatter_plot(tde_sph_arr, tde_pseudos, txt_show=False, im_write=False, im_name='tde_scatter.png')"
   ]
  },
  {
   "cell_type": "code",
   "execution_count": 24,
   "id": "934523b1-f335-40e9-9539-476b1662430d",
   "metadata": {},
   "outputs": [
    {
     "name": "stderr",
     "output_type": "stream",
     "text": [
      "/storage/work/ash5615/bin/.conda/envs/findtde/lib/python3.12/site-packages/findtde/utils.py:199: RuntimeWarning:\n",
      "\n",
      "invalid value encountered in scalar divide\n",
      "\n"
     ]
    }
   ],
   "source": [
    "ps_tde, ts_tde, es_tde = idw_heatmap(tde_sph_arr, RES=tde_sph_arr.shape[0], P=5)"
   ]
  },
  {
   "cell_type": "code",
   "execution_count": null,
   "id": "d4e3e83e-1ff2-493f-9a80-f1f80cc090a7",
   "metadata": {},
   "outputs": [],
   "source": [
    "generate_tde_heatmap_plot(ps_tde, ts_tde, es_tde, im_write=False, im_name='tde_heatmap.png')"
   ]
  },
  {
   "cell_type": "markdown",
   "id": "c0bb2ef5-5916-4126-b3f6-fde18f222bde",
   "metadata": {},
   "source": [
    "Alternatively, the majority of analysis functions can be executed simultaneously using the evaluate_tdes function."
   ]
  },
  {
   "cell_type": "code",
   "execution_count": null,
   "id": "8ad53f8a-faab-45e2-9fc2-d4fd5aa82c1a",
   "metadata": {},
   "outputs": [],
   "source": [
    "evaluate_tdes('ga', 34, run_type='vasp', base_path=vasp_path, annotate_pseudos=False, interpolate_heatmap=False)"
   ]
  },
  {
   "cell_type": "markdown",
   "id": "37e0c02e-fefd-41b0-bc71-9daa593e6785",
   "metadata": {},
   "source": [
    "## LAMMPS"
   ]
  },
  {
   "cell_type": "code",
   "execution_count": 2,
   "id": "b1bfa5a6-8693-480e-9622-4e5b1d97c814",
   "metadata": {},
   "outputs": [
    {
     "name": "stdout",
     "output_type": "stream",
     "text": [
      "/storage/work/ash5615/bin/findTDE/examples/GaN_LAMMPS\n"
     ]
    }
   ],
   "source": [
    "lmp_path = Path.cwd() / 'GaN_LAMMPS'\n",
    "print(lmp_path)"
   ]
  },
  {
   "cell_type": "markdown",
   "id": "aa86972d-ddb4-434d-9e9e-a2315497c87f",
   "metadata": {},
   "source": [
    "All analysis functions are compatible with LAMMPS as well as VASP, but some require specification of the program used within the function call. Again, the majority of analysis functions can be executed simultaneously using the evaluate_tdes function."
   ]
  },
  {
   "cell_type": "code",
   "execution_count": 4,
   "id": "b7f42d9f-614f-4e23-b539-d946f76fafd0",
   "metadata": {},
   "outputs": [
    {
     "name": "stdout",
     "output_type": "stream",
     "text": [
      "{}\n"
     ]
    },
    {
     "data": {
      "application/vnd.plotly.v1+json": {
       "config": {
        "plotlyServerURL": "https://plot.ly"
       },
       "data": [
        {
         "connectgaps": true,
         "hovertemplate": "variable=176S<br>index=%{x}<br>value=%{y}<extra></extra>",
         "legendgroup": "176S",
         "line": {
          "color": "#2E91E5",
          "dash": "dash",
          "width": 4
         },
         "marker": {
          "size": 9,
          "symbol": "circle"
         },
         "mode": "lines+markers",
         "name": "176S",
         "orientation": "v",
         "showlegend": true,
         "type": "scatter",
         "x": [
          10,
          18,
          26,
          30,
          32,
          33,
          34
         ],
         "xaxis": "x",
         "y": [
          0,
          0,
          0,
          0,
          0,
          13.346592,
          12.65253
         ],
         "yaxis": "y"
        }
       ],
       "layout": {
        "autosize": false,
        "font": {
         "size": 20
        },
        "height": 600,
        "legend": {
         "title": {
          "text": "Pseudo"
         },
         "tracegroupgap": 0
        },
        "margin": {
         "t": 60
        },
        "template": {
         "data": {
          "bar": [
           {
            "error_x": {
             "color": "rgb(36,36,36)"
            },
            "error_y": {
             "color": "rgb(36,36,36)"
            },
            "marker": {
             "line": {
              "color": "white",
              "width": 0.5
             },
             "pattern": {
              "fillmode": "overlay",
              "size": 10,
              "solidity": 0.2
             }
            },
            "type": "bar"
           }
          ],
          "barpolar": [
           {
            "marker": {
             "line": {
              "color": "white",
              "width": 0.5
             },
             "pattern": {
              "fillmode": "overlay",
              "size": 10,
              "solidity": 0.2
             }
            },
            "type": "barpolar"
           }
          ],
          "carpet": [
           {
            "aaxis": {
             "endlinecolor": "rgb(36,36,36)",
             "gridcolor": "white",
             "linecolor": "white",
             "minorgridcolor": "white",
             "startlinecolor": "rgb(36,36,36)"
            },
            "baxis": {
             "endlinecolor": "rgb(36,36,36)",
             "gridcolor": "white",
             "linecolor": "white",
             "minorgridcolor": "white",
             "startlinecolor": "rgb(36,36,36)"
            },
            "type": "carpet"
           }
          ],
          "choropleth": [
           {
            "colorbar": {
             "outlinewidth": 1,
             "tickcolor": "rgb(36,36,36)",
             "ticks": "outside"
            },
            "type": "choropleth"
           }
          ],
          "contour": [
           {
            "colorbar": {
             "outlinewidth": 1,
             "tickcolor": "rgb(36,36,36)",
             "ticks": "outside"
            },
            "colorscale": [
             [
              0,
              "#440154"
             ],
             [
              0.1111111111111111,
              "#482878"
             ],
             [
              0.2222222222222222,
              "#3e4989"
             ],
             [
              0.3333333333333333,
              "#31688e"
             ],
             [
              0.4444444444444444,
              "#26828e"
             ],
             [
              0.5555555555555556,
              "#1f9e89"
             ],
             [
              0.6666666666666666,
              "#35b779"
             ],
             [
              0.7777777777777778,
              "#6ece58"
             ],
             [
              0.8888888888888888,
              "#b5de2b"
             ],
             [
              1,
              "#fde725"
             ]
            ],
            "type": "contour"
           }
          ],
          "contourcarpet": [
           {
            "colorbar": {
             "outlinewidth": 1,
             "tickcolor": "rgb(36,36,36)",
             "ticks": "outside"
            },
            "type": "contourcarpet"
           }
          ],
          "heatmap": [
           {
            "colorbar": {
             "outlinewidth": 1,
             "tickcolor": "rgb(36,36,36)",
             "ticks": "outside"
            },
            "colorscale": [
             [
              0,
              "#440154"
             ],
             [
              0.1111111111111111,
              "#482878"
             ],
             [
              0.2222222222222222,
              "#3e4989"
             ],
             [
              0.3333333333333333,
              "#31688e"
             ],
             [
              0.4444444444444444,
              "#26828e"
             ],
             [
              0.5555555555555556,
              "#1f9e89"
             ],
             [
              0.6666666666666666,
              "#35b779"
             ],
             [
              0.7777777777777778,
              "#6ece58"
             ],
             [
              0.8888888888888888,
              "#b5de2b"
             ],
             [
              1,
              "#fde725"
             ]
            ],
            "type": "heatmap"
           }
          ],
          "heatmapgl": [
           {
            "colorbar": {
             "outlinewidth": 1,
             "tickcolor": "rgb(36,36,36)",
             "ticks": "outside"
            },
            "colorscale": [
             [
              0,
              "#440154"
             ],
             [
              0.1111111111111111,
              "#482878"
             ],
             [
              0.2222222222222222,
              "#3e4989"
             ],
             [
              0.3333333333333333,
              "#31688e"
             ],
             [
              0.4444444444444444,
              "#26828e"
             ],
             [
              0.5555555555555556,
              "#1f9e89"
             ],
             [
              0.6666666666666666,
              "#35b779"
             ],
             [
              0.7777777777777778,
              "#6ece58"
             ],
             [
              0.8888888888888888,
              "#b5de2b"
             ],
             [
              1,
              "#fde725"
             ]
            ],
            "type": "heatmapgl"
           }
          ],
          "histogram": [
           {
            "marker": {
             "line": {
              "color": "white",
              "width": 0.6
             }
            },
            "type": "histogram"
           }
          ],
          "histogram2d": [
           {
            "colorbar": {
             "outlinewidth": 1,
             "tickcolor": "rgb(36,36,36)",
             "ticks": "outside"
            },
            "colorscale": [
             [
              0,
              "#440154"
             ],
             [
              0.1111111111111111,
              "#482878"
             ],
             [
              0.2222222222222222,
              "#3e4989"
             ],
             [
              0.3333333333333333,
              "#31688e"
             ],
             [
              0.4444444444444444,
              "#26828e"
             ],
             [
              0.5555555555555556,
              "#1f9e89"
             ],
             [
              0.6666666666666666,
              "#35b779"
             ],
             [
              0.7777777777777778,
              "#6ece58"
             ],
             [
              0.8888888888888888,
              "#b5de2b"
             ],
             [
              1,
              "#fde725"
             ]
            ],
            "type": "histogram2d"
           }
          ],
          "histogram2dcontour": [
           {
            "colorbar": {
             "outlinewidth": 1,
             "tickcolor": "rgb(36,36,36)",
             "ticks": "outside"
            },
            "colorscale": [
             [
              0,
              "#440154"
             ],
             [
              0.1111111111111111,
              "#482878"
             ],
             [
              0.2222222222222222,
              "#3e4989"
             ],
             [
              0.3333333333333333,
              "#31688e"
             ],
             [
              0.4444444444444444,
              "#26828e"
             ],
             [
              0.5555555555555556,
              "#1f9e89"
             ],
             [
              0.6666666666666666,
              "#35b779"
             ],
             [
              0.7777777777777778,
              "#6ece58"
             ],
             [
              0.8888888888888888,
              "#b5de2b"
             ],
             [
              1,
              "#fde725"
             ]
            ],
            "type": "histogram2dcontour"
           }
          ],
          "mesh3d": [
           {
            "colorbar": {
             "outlinewidth": 1,
             "tickcolor": "rgb(36,36,36)",
             "ticks": "outside"
            },
            "type": "mesh3d"
           }
          ],
          "parcoords": [
           {
            "line": {
             "colorbar": {
              "outlinewidth": 1,
              "tickcolor": "rgb(36,36,36)",
              "ticks": "outside"
             }
            },
            "type": "parcoords"
           }
          ],
          "pie": [
           {
            "automargin": true,
            "type": "pie"
           }
          ],
          "scatter": [
           {
            "fillpattern": {
             "fillmode": "overlay",
             "size": 10,
             "solidity": 0.2
            },
            "type": "scatter"
           }
          ],
          "scatter3d": [
           {
            "line": {
             "colorbar": {
              "outlinewidth": 1,
              "tickcolor": "rgb(36,36,36)",
              "ticks": "outside"
             }
            },
            "marker": {
             "colorbar": {
              "outlinewidth": 1,
              "tickcolor": "rgb(36,36,36)",
              "ticks": "outside"
             }
            },
            "type": "scatter3d"
           }
          ],
          "scattercarpet": [
           {
            "marker": {
             "colorbar": {
              "outlinewidth": 1,
              "tickcolor": "rgb(36,36,36)",
              "ticks": "outside"
             }
            },
            "type": "scattercarpet"
           }
          ],
          "scattergeo": [
           {
            "marker": {
             "colorbar": {
              "outlinewidth": 1,
              "tickcolor": "rgb(36,36,36)",
              "ticks": "outside"
             }
            },
            "type": "scattergeo"
           }
          ],
          "scattergl": [
           {
            "marker": {
             "colorbar": {
              "outlinewidth": 1,
              "tickcolor": "rgb(36,36,36)",
              "ticks": "outside"
             }
            },
            "type": "scattergl"
           }
          ],
          "scattermapbox": [
           {
            "marker": {
             "colorbar": {
              "outlinewidth": 1,
              "tickcolor": "rgb(36,36,36)",
              "ticks": "outside"
             }
            },
            "type": "scattermapbox"
           }
          ],
          "scatterpolar": [
           {
            "marker": {
             "colorbar": {
              "outlinewidth": 1,
              "tickcolor": "rgb(36,36,36)",
              "ticks": "outside"
             }
            },
            "type": "scatterpolar"
           }
          ],
          "scatterpolargl": [
           {
            "marker": {
             "colorbar": {
              "outlinewidth": 1,
              "tickcolor": "rgb(36,36,36)",
              "ticks": "outside"
             }
            },
            "type": "scatterpolargl"
           }
          ],
          "scatterternary": [
           {
            "marker": {
             "colorbar": {
              "outlinewidth": 1,
              "tickcolor": "rgb(36,36,36)",
              "ticks": "outside"
             }
            },
            "type": "scatterternary"
           }
          ],
          "surface": [
           {
            "colorbar": {
             "outlinewidth": 1,
             "tickcolor": "rgb(36,36,36)",
             "ticks": "outside"
            },
            "colorscale": [
             [
              0,
              "#440154"
             ],
             [
              0.1111111111111111,
              "#482878"
             ],
             [
              0.2222222222222222,
              "#3e4989"
             ],
             [
              0.3333333333333333,
              "#31688e"
             ],
             [
              0.4444444444444444,
              "#26828e"
             ],
             [
              0.5555555555555556,
              "#1f9e89"
             ],
             [
              0.6666666666666666,
              "#35b779"
             ],
             [
              0.7777777777777778,
              "#6ece58"
             ],
             [
              0.8888888888888888,
              "#b5de2b"
             ],
             [
              1,
              "#fde725"
             ]
            ],
            "type": "surface"
           }
          ],
          "table": [
           {
            "cells": {
             "fill": {
              "color": "rgb(237,237,237)"
             },
             "line": {
              "color": "white"
             }
            },
            "header": {
             "fill": {
              "color": "rgb(217,217,217)"
             },
             "line": {
              "color": "white"
             }
            },
            "type": "table"
           }
          ]
         },
         "layout": {
          "annotationdefaults": {
           "arrowhead": 0,
           "arrowwidth": 1
          },
          "autotypenumbers": "strict",
          "coloraxis": {
           "colorbar": {
            "outlinewidth": 1,
            "tickcolor": "rgb(36,36,36)",
            "ticks": "outside"
           }
          },
          "colorscale": {
           "diverging": [
            [
             0,
             "rgb(103,0,31)"
            ],
            [
             0.1,
             "rgb(178,24,43)"
            ],
            [
             0.2,
             "rgb(214,96,77)"
            ],
            [
             0.3,
             "rgb(244,165,130)"
            ],
            [
             0.4,
             "rgb(253,219,199)"
            ],
            [
             0.5,
             "rgb(247,247,247)"
            ],
            [
             0.6,
             "rgb(209,229,240)"
            ],
            [
             0.7,
             "rgb(146,197,222)"
            ],
            [
             0.8,
             "rgb(67,147,195)"
            ],
            [
             0.9,
             "rgb(33,102,172)"
            ],
            [
             1,
             "rgb(5,48,97)"
            ]
           ],
           "sequential": [
            [
             0,
             "#440154"
            ],
            [
             0.1111111111111111,
             "#482878"
            ],
            [
             0.2222222222222222,
             "#3e4989"
            ],
            [
             0.3333333333333333,
             "#31688e"
            ],
            [
             0.4444444444444444,
             "#26828e"
            ],
            [
             0.5555555555555556,
             "#1f9e89"
            ],
            [
             0.6666666666666666,
             "#35b779"
            ],
            [
             0.7777777777777778,
             "#6ece58"
            ],
            [
             0.8888888888888888,
             "#b5de2b"
            ],
            [
             1,
             "#fde725"
            ]
           ],
           "sequentialminus": [
            [
             0,
             "#440154"
            ],
            [
             0.1111111111111111,
             "#482878"
            ],
            [
             0.2222222222222222,
             "#3e4989"
            ],
            [
             0.3333333333333333,
             "#31688e"
            ],
            [
             0.4444444444444444,
             "#26828e"
            ],
            [
             0.5555555555555556,
             "#1f9e89"
            ],
            [
             0.6666666666666666,
             "#35b779"
            ],
            [
             0.7777777777777778,
             "#6ece58"
            ],
            [
             0.8888888888888888,
             "#b5de2b"
            ],
            [
             1,
             "#fde725"
            ]
           ]
          },
          "colorway": [
           "#1F77B4",
           "#FF7F0E",
           "#2CA02C",
           "#D62728",
           "#9467BD",
           "#8C564B",
           "#E377C2",
           "#7F7F7F",
           "#BCBD22",
           "#17BECF"
          ],
          "font": {
           "color": "rgb(36,36,36)",
           "size": 32
          },
          "geo": {
           "bgcolor": "white",
           "lakecolor": "white",
           "landcolor": "white",
           "showlakes": true,
           "showland": true,
           "subunitcolor": "white"
          },
          "hoverlabel": {
           "align": "left"
          },
          "hovermode": "closest",
          "mapbox": {
           "style": "light"
          },
          "paper_bgcolor": "white",
          "plot_bgcolor": "white",
          "polar": {
           "angularaxis": {
            "gridcolor": "rgb(232,232,232)",
            "linecolor": "rgb(36,36,36)",
            "showgrid": false,
            "showline": true,
            "ticks": "outside"
           },
           "bgcolor": "white",
           "radialaxis": {
            "gridcolor": "rgb(232,232,232)",
            "linecolor": "rgb(36,36,36)",
            "showgrid": false,
            "showline": true,
            "ticks": "outside"
           }
          },
          "scene": {
           "xaxis": {
            "backgroundcolor": "white",
            "gridcolor": "rgb(232,232,232)",
            "gridwidth": 2,
            "linecolor": "rgb(36,36,36)",
            "showbackground": true,
            "showgrid": false,
            "showline": true,
            "ticks": "outside",
            "zeroline": false,
            "zerolinecolor": "rgb(36,36,36)"
           },
           "yaxis": {
            "backgroundcolor": "white",
            "gridcolor": "rgb(232,232,232)",
            "gridwidth": 2,
            "linecolor": "rgb(36,36,36)",
            "showbackground": true,
            "showgrid": false,
            "showline": true,
            "ticks": "outside",
            "zeroline": false,
            "zerolinecolor": "rgb(36,36,36)"
           },
           "zaxis": {
            "backgroundcolor": "white",
            "gridcolor": "rgb(232,232,232)",
            "gridwidth": 2,
            "linecolor": "rgb(36,36,36)",
            "showbackground": true,
            "showgrid": false,
            "showline": true,
            "ticks": "outside",
            "zeroline": false,
            "zerolinecolor": "rgb(36,36,36)"
           }
          },
          "shapedefaults": {
           "fillcolor": "black",
           "line": {
            "width": 0
           },
           "opacity": 0.3
          },
          "ternary": {
           "aaxis": {
            "gridcolor": "rgb(232,232,232)",
            "linecolor": "rgb(36,36,36)",
            "showgrid": false,
            "showline": true,
            "ticks": "outside"
           },
           "baxis": {
            "gridcolor": "rgb(232,232,232)",
            "linecolor": "rgb(36,36,36)",
            "showgrid": false,
            "showline": true,
            "ticks": "outside"
           },
           "bgcolor": "white",
           "caxis": {
            "gridcolor": "rgb(232,232,232)",
            "linecolor": "rgb(36,36,36)",
            "showgrid": false,
            "showline": true,
            "ticks": "outside"
           }
          },
          "title": {
           "x": 0.05
          },
          "xaxis": {
           "automargin": true,
           "gridcolor": "rgb(232,232,232)",
           "linecolor": "rgb(36,36,36)",
           "mirror": "ticks",
           "showgrid": false,
           "showline": true,
           "ticks": "inside",
           "title": {
            "font": {
             "size": 40
            },
            "standoff": 15
           },
           "zeroline": false,
           "zerolinecolor": "rgb(36,36,36)"
          },
          "yaxis": {
           "automargin": true,
           "gridcolor": "rgb(232,232,232)",
           "linecolor": "rgb(36,36,36)",
           "mirror": "ticks",
           "showgrid": false,
           "showline": true,
           "ticks": "inside",
           "title": {
            "font": {
             "size": 40
            },
            "standoff": 15
           },
           "zeroline": false,
           "zerolinecolor": "rgb(36,36,36)"
          }
         }
        },
        "width": 1300,
        "xaxis": {
         "anchor": "y",
         "domain": [
          0,
          1
         ],
         "title": {
          "text": "$KE_{i} \\text{ [eV]}$"
         }
        },
        "yaxis": {
         "anchor": "x",
         "domain": [
          0,
          1
         ],
         "title": {
          "text": "$\\Delta E \\text{ [eV]}$"
         }
        }
       }
      },
      "text/html": [
       "<div>                            <div id=\"cf5dbc50-1bfe-4b97-8be2-f8969d5ab9d2\" class=\"plotly-graph-div\" style=\"height:600px; width:1300px;\"></div>            <script type=\"text/javascript\">                require([\"plotly\"], function(Plotly) {                    window.PLOTLYENV=window.PLOTLYENV || {};                                    if (document.getElementById(\"cf5dbc50-1bfe-4b97-8be2-f8969d5ab9d2\")) {                    Plotly.newPlot(                        \"cf5dbc50-1bfe-4b97-8be2-f8969d5ab9d2\",                        [{\"hovertemplate\":\"variable=176S\\u003cbr\\u003eindex=%{x}\\u003cbr\\u003evalue=%{y}\\u003cextra\\u003e\\u003c\\u002fextra\\u003e\",\"legendgroup\":\"176S\",\"line\":{\"color\":\"#2E91E5\",\"dash\":\"dash\",\"width\":4},\"marker\":{\"symbol\":\"circle\",\"size\":9},\"mode\":\"lines+markers\",\"name\":\"176S\",\"orientation\":\"v\",\"showlegend\":true,\"x\":[10,18,26,30,32,33,34],\"xaxis\":\"x\",\"y\":[0.0,0.0,0.0,0.0,0.0,13.346592,12.65253],\"yaxis\":\"y\",\"type\":\"scatter\",\"connectgaps\":true}],                        {\"template\":{\"data\":{\"histogram2dcontour\":[{\"type\":\"histogram2dcontour\",\"colorbar\":{\"outlinewidth\":1,\"tickcolor\":\"rgb(36,36,36)\",\"ticks\":\"outside\"},\"colorscale\":[[0.0,\"#440154\"],[0.1111111111111111,\"#482878\"],[0.2222222222222222,\"#3e4989\"],[0.3333333333333333,\"#31688e\"],[0.4444444444444444,\"#26828e\"],[0.5555555555555556,\"#1f9e89\"],[0.6666666666666666,\"#35b779\"],[0.7777777777777778,\"#6ece58\"],[0.8888888888888888,\"#b5de2b\"],[1.0,\"#fde725\"]]}],\"choropleth\":[{\"type\":\"choropleth\",\"colorbar\":{\"outlinewidth\":1,\"tickcolor\":\"rgb(36,36,36)\",\"ticks\":\"outside\"}}],\"histogram2d\":[{\"type\":\"histogram2d\",\"colorbar\":{\"outlinewidth\":1,\"tickcolor\":\"rgb(36,36,36)\",\"ticks\":\"outside\"},\"colorscale\":[[0.0,\"#440154\"],[0.1111111111111111,\"#482878\"],[0.2222222222222222,\"#3e4989\"],[0.3333333333333333,\"#31688e\"],[0.4444444444444444,\"#26828e\"],[0.5555555555555556,\"#1f9e89\"],[0.6666666666666666,\"#35b779\"],[0.7777777777777778,\"#6ece58\"],[0.8888888888888888,\"#b5de2b\"],[1.0,\"#fde725\"]]}],\"heatmap\":[{\"type\":\"heatmap\",\"colorbar\":{\"outlinewidth\":1,\"tickcolor\":\"rgb(36,36,36)\",\"ticks\":\"outside\"},\"colorscale\":[[0.0,\"#440154\"],[0.1111111111111111,\"#482878\"],[0.2222222222222222,\"#3e4989\"],[0.3333333333333333,\"#31688e\"],[0.4444444444444444,\"#26828e\"],[0.5555555555555556,\"#1f9e89\"],[0.6666666666666666,\"#35b779\"],[0.7777777777777778,\"#6ece58\"],[0.8888888888888888,\"#b5de2b\"],[1.0,\"#fde725\"]]}],\"heatmapgl\":[{\"type\":\"heatmapgl\",\"colorbar\":{\"outlinewidth\":1,\"tickcolor\":\"rgb(36,36,36)\",\"ticks\":\"outside\"},\"colorscale\":[[0.0,\"#440154\"],[0.1111111111111111,\"#482878\"],[0.2222222222222222,\"#3e4989\"],[0.3333333333333333,\"#31688e\"],[0.4444444444444444,\"#26828e\"],[0.5555555555555556,\"#1f9e89\"],[0.6666666666666666,\"#35b779\"],[0.7777777777777778,\"#6ece58\"],[0.8888888888888888,\"#b5de2b\"],[1.0,\"#fde725\"]]}],\"contourcarpet\":[{\"type\":\"contourcarpet\",\"colorbar\":{\"outlinewidth\":1,\"tickcolor\":\"rgb(36,36,36)\",\"ticks\":\"outside\"}}],\"contour\":[{\"type\":\"contour\",\"colorbar\":{\"outlinewidth\":1,\"tickcolor\":\"rgb(36,36,36)\",\"ticks\":\"outside\"},\"colorscale\":[[0.0,\"#440154\"],[0.1111111111111111,\"#482878\"],[0.2222222222222222,\"#3e4989\"],[0.3333333333333333,\"#31688e\"],[0.4444444444444444,\"#26828e\"],[0.5555555555555556,\"#1f9e89\"],[0.6666666666666666,\"#35b779\"],[0.7777777777777778,\"#6ece58\"],[0.8888888888888888,\"#b5de2b\"],[1.0,\"#fde725\"]]}],\"surface\":[{\"type\":\"surface\",\"colorbar\":{\"outlinewidth\":1,\"tickcolor\":\"rgb(36,36,36)\",\"ticks\":\"outside\"},\"colorscale\":[[0.0,\"#440154\"],[0.1111111111111111,\"#482878\"],[0.2222222222222222,\"#3e4989\"],[0.3333333333333333,\"#31688e\"],[0.4444444444444444,\"#26828e\"],[0.5555555555555556,\"#1f9e89\"],[0.6666666666666666,\"#35b779\"],[0.7777777777777778,\"#6ece58\"],[0.8888888888888888,\"#b5de2b\"],[1.0,\"#fde725\"]]}],\"mesh3d\":[{\"type\":\"mesh3d\",\"colorbar\":{\"outlinewidth\":1,\"tickcolor\":\"rgb(36,36,36)\",\"ticks\":\"outside\"}}],\"scatter\":[{\"fillpattern\":{\"fillmode\":\"overlay\",\"size\":10,\"solidity\":0.2},\"type\":\"scatter\"}],\"parcoords\":[{\"type\":\"parcoords\",\"line\":{\"colorbar\":{\"outlinewidth\":1,\"tickcolor\":\"rgb(36,36,36)\",\"ticks\":\"outside\"}}}],\"scatterpolargl\":[{\"type\":\"scatterpolargl\",\"marker\":{\"colorbar\":{\"outlinewidth\":1,\"tickcolor\":\"rgb(36,36,36)\",\"ticks\":\"outside\"}}}],\"bar\":[{\"error_x\":{\"color\":\"rgb(36,36,36)\"},\"error_y\":{\"color\":\"rgb(36,36,36)\"},\"marker\":{\"line\":{\"color\":\"white\",\"width\":0.5},\"pattern\":{\"fillmode\":\"overlay\",\"size\":10,\"solidity\":0.2}},\"type\":\"bar\"}],\"scattergeo\":[{\"type\":\"scattergeo\",\"marker\":{\"colorbar\":{\"outlinewidth\":1,\"tickcolor\":\"rgb(36,36,36)\",\"ticks\":\"outside\"}}}],\"scatterpolar\":[{\"type\":\"scatterpolar\",\"marker\":{\"colorbar\":{\"outlinewidth\":1,\"tickcolor\":\"rgb(36,36,36)\",\"ticks\":\"outside\"}}}],\"histogram\":[{\"marker\":{\"line\":{\"color\":\"white\",\"width\":0.6}},\"type\":\"histogram\"}],\"scattergl\":[{\"type\":\"scattergl\",\"marker\":{\"colorbar\":{\"outlinewidth\":1,\"tickcolor\":\"rgb(36,36,36)\",\"ticks\":\"outside\"}}}],\"scatter3d\":[{\"type\":\"scatter3d\",\"line\":{\"colorbar\":{\"outlinewidth\":1,\"tickcolor\":\"rgb(36,36,36)\",\"ticks\":\"outside\"}},\"marker\":{\"colorbar\":{\"outlinewidth\":1,\"tickcolor\":\"rgb(36,36,36)\",\"ticks\":\"outside\"}}}],\"scattermapbox\":[{\"type\":\"scattermapbox\",\"marker\":{\"colorbar\":{\"outlinewidth\":1,\"tickcolor\":\"rgb(36,36,36)\",\"ticks\":\"outside\"}}}],\"scatterternary\":[{\"type\":\"scatterternary\",\"marker\":{\"colorbar\":{\"outlinewidth\":1,\"tickcolor\":\"rgb(36,36,36)\",\"ticks\":\"outside\"}}}],\"scattercarpet\":[{\"type\":\"scattercarpet\",\"marker\":{\"colorbar\":{\"outlinewidth\":1,\"tickcolor\":\"rgb(36,36,36)\",\"ticks\":\"outside\"}}}],\"carpet\":[{\"aaxis\":{\"endlinecolor\":\"rgb(36,36,36)\",\"gridcolor\":\"white\",\"linecolor\":\"white\",\"minorgridcolor\":\"white\",\"startlinecolor\":\"rgb(36,36,36)\"},\"baxis\":{\"endlinecolor\":\"rgb(36,36,36)\",\"gridcolor\":\"white\",\"linecolor\":\"white\",\"minorgridcolor\":\"white\",\"startlinecolor\":\"rgb(36,36,36)\"},\"type\":\"carpet\"}],\"table\":[{\"cells\":{\"fill\":{\"color\":\"rgb(237,237,237)\"},\"line\":{\"color\":\"white\"}},\"header\":{\"fill\":{\"color\":\"rgb(217,217,217)\"},\"line\":{\"color\":\"white\"}},\"type\":\"table\"}],\"barpolar\":[{\"marker\":{\"line\":{\"color\":\"white\",\"width\":0.5},\"pattern\":{\"fillmode\":\"overlay\",\"size\":10,\"solidity\":0.2}},\"type\":\"barpolar\"}],\"pie\":[{\"automargin\":true,\"type\":\"pie\"}]},\"layout\":{\"autotypenumbers\":\"strict\",\"colorway\":[\"#1F77B4\",\"#FF7F0E\",\"#2CA02C\",\"#D62728\",\"#9467BD\",\"#8C564B\",\"#E377C2\",\"#7F7F7F\",\"#BCBD22\",\"#17BECF\"],\"font\":{\"color\":\"rgb(36,36,36)\",\"size\":32},\"hovermode\":\"closest\",\"hoverlabel\":{\"align\":\"left\"},\"paper_bgcolor\":\"white\",\"plot_bgcolor\":\"white\",\"polar\":{\"bgcolor\":\"white\",\"angularaxis\":{\"gridcolor\":\"rgb(232,232,232)\",\"linecolor\":\"rgb(36,36,36)\",\"showgrid\":false,\"showline\":true,\"ticks\":\"outside\"},\"radialaxis\":{\"gridcolor\":\"rgb(232,232,232)\",\"linecolor\":\"rgb(36,36,36)\",\"showgrid\":false,\"showline\":true,\"ticks\":\"outside\"}},\"ternary\":{\"bgcolor\":\"white\",\"aaxis\":{\"gridcolor\":\"rgb(232,232,232)\",\"linecolor\":\"rgb(36,36,36)\",\"showgrid\":false,\"showline\":true,\"ticks\":\"outside\"},\"baxis\":{\"gridcolor\":\"rgb(232,232,232)\",\"linecolor\":\"rgb(36,36,36)\",\"showgrid\":false,\"showline\":true,\"ticks\":\"outside\"},\"caxis\":{\"gridcolor\":\"rgb(232,232,232)\",\"linecolor\":\"rgb(36,36,36)\",\"showgrid\":false,\"showline\":true,\"ticks\":\"outside\"}},\"coloraxis\":{\"colorbar\":{\"outlinewidth\":1,\"tickcolor\":\"rgb(36,36,36)\",\"ticks\":\"outside\"}},\"colorscale\":{\"sequential\":[[0.0,\"#440154\"],[0.1111111111111111,\"#482878\"],[0.2222222222222222,\"#3e4989\"],[0.3333333333333333,\"#31688e\"],[0.4444444444444444,\"#26828e\"],[0.5555555555555556,\"#1f9e89\"],[0.6666666666666666,\"#35b779\"],[0.7777777777777778,\"#6ece58\"],[0.8888888888888888,\"#b5de2b\"],[1.0,\"#fde725\"]],\"sequentialminus\":[[0.0,\"#440154\"],[0.1111111111111111,\"#482878\"],[0.2222222222222222,\"#3e4989\"],[0.3333333333333333,\"#31688e\"],[0.4444444444444444,\"#26828e\"],[0.5555555555555556,\"#1f9e89\"],[0.6666666666666666,\"#35b779\"],[0.7777777777777778,\"#6ece58\"],[0.8888888888888888,\"#b5de2b\"],[1.0,\"#fde725\"]],\"diverging\":[[0.0,\"rgb(103,0,31)\"],[0.1,\"rgb(178,24,43)\"],[0.2,\"rgb(214,96,77)\"],[0.3,\"rgb(244,165,130)\"],[0.4,\"rgb(253,219,199)\"],[0.5,\"rgb(247,247,247)\"],[0.6,\"rgb(209,229,240)\"],[0.7,\"rgb(146,197,222)\"],[0.8,\"rgb(67,147,195)\"],[0.9,\"rgb(33,102,172)\"],[1.0,\"rgb(5,48,97)\"]]},\"xaxis\":{\"gridcolor\":\"rgb(232,232,232)\",\"linecolor\":\"rgb(36,36,36)\",\"showgrid\":false,\"showline\":true,\"ticks\":\"inside\",\"title\":{\"standoff\":15,\"font\":{\"size\":40}},\"zerolinecolor\":\"rgb(36,36,36)\",\"automargin\":true,\"zeroline\":false,\"mirror\":\"ticks\"},\"yaxis\":{\"gridcolor\":\"rgb(232,232,232)\",\"linecolor\":\"rgb(36,36,36)\",\"showgrid\":false,\"showline\":true,\"ticks\":\"inside\",\"title\":{\"standoff\":15,\"font\":{\"size\":40}},\"zerolinecolor\":\"rgb(36,36,36)\",\"automargin\":true,\"zeroline\":false,\"mirror\":\"ticks\"},\"scene\":{\"xaxis\":{\"backgroundcolor\":\"white\",\"gridcolor\":\"rgb(232,232,232)\",\"linecolor\":\"rgb(36,36,36)\",\"showbackground\":true,\"showgrid\":false,\"showline\":true,\"ticks\":\"outside\",\"zerolinecolor\":\"rgb(36,36,36)\",\"gridwidth\":2,\"zeroline\":false},\"yaxis\":{\"backgroundcolor\":\"white\",\"gridcolor\":\"rgb(232,232,232)\",\"linecolor\":\"rgb(36,36,36)\",\"showbackground\":true,\"showgrid\":false,\"showline\":true,\"ticks\":\"outside\",\"zerolinecolor\":\"rgb(36,36,36)\",\"gridwidth\":2,\"zeroline\":false},\"zaxis\":{\"backgroundcolor\":\"white\",\"gridcolor\":\"rgb(232,232,232)\",\"linecolor\":\"rgb(36,36,36)\",\"showbackground\":true,\"showgrid\":false,\"showline\":true,\"ticks\":\"outside\",\"zerolinecolor\":\"rgb(36,36,36)\",\"gridwidth\":2,\"zeroline\":false}},\"shapedefaults\":{\"fillcolor\":\"black\",\"line\":{\"width\":0},\"opacity\":0.3},\"annotationdefaults\":{\"arrowhead\":0,\"arrowwidth\":1},\"geo\":{\"bgcolor\":\"white\",\"landcolor\":\"white\",\"subunitcolor\":\"white\",\"showland\":true,\"showlakes\":true,\"lakecolor\":\"white\"},\"title\":{\"x\":0.05},\"mapbox\":{\"style\":\"light\"}}},\"xaxis\":{\"anchor\":\"y\",\"domain\":[0.0,1.0],\"title\":{\"text\":\"$KE_{i} \\\\text{ [eV]}$\"}},\"yaxis\":{\"anchor\":\"x\",\"domain\":[0.0,1.0],\"title\":{\"text\":\"$\\\\Delta E \\\\text{ [eV]}$\"}},\"legend\":{\"title\":{\"text\":\"Pseudo\"},\"tracegroupgap\":0},\"margin\":{\"t\":60},\"font\":{\"size\":20},\"autosize\":false,\"width\":1300,\"height\":600},                        {\"responsive\": true}                    ).then(function(){\n",
       "                            \n",
       "var gd = document.getElementById('cf5dbc50-1bfe-4b97-8be2-f8969d5ab9d2');\n",
       "var x = new MutationObserver(function (mutations, observer) {{\n",
       "        var display = window.getComputedStyle(gd).display;\n",
       "        if (!display || display === 'none') {{\n",
       "            console.log([gd, 'removed!']);\n",
       "            Plotly.purge(gd);\n",
       "            observer.disconnect();\n",
       "        }}\n",
       "}});\n",
       "\n",
       "// Listen for the removal of the full notebook cells\n",
       "var notebookContainer = gd.closest('#notebook-container');\n",
       "if (notebookContainer) {{\n",
       "    x.observe(notebookContainer, {childList: true});\n",
       "}}\n",
       "\n",
       "// Listen for the clearing of the current output cell\n",
       "var outputEl = gd.closest('.output');\n",
       "if (outputEl) {{\n",
       "    x.observe(outputEl, {childList: true});\n",
       "}}\n",
       "\n",
       "                        })                };                });            </script>        </div>"
      ]
     },
     "metadata": {},
     "output_type": "display_data"
    },
    {
     "name": "stdout",
     "output_type": "stream",
     "text": [
      "{'TDE': 100}\n"
     ]
    },
    {
     "ename": "ValueError",
     "evalue": "could not convert string to float: np.str_('9S')",
     "output_type": "error",
     "traceback": [
      "\u001b[0;31m---------------------------------------------------------------------------\u001b[0m",
      "\u001b[0;31mValueError\u001b[0m                                Traceback (most recent call last)",
      "Cell \u001b[0;32mIn[4], line 1\u001b[0m\n\u001b[0;32m----> 1\u001b[0m evaluate_tdes(\u001b[38;5;124m'\u001b[39m\u001b[38;5;124mga\u001b[39m\u001b[38;5;124m'\u001b[39m, \u001b[38;5;241m34\u001b[39m, run_type\u001b[38;5;241m=\u001b[39m\u001b[38;5;124m'\u001b[39m\u001b[38;5;124mlammps\u001b[39m\u001b[38;5;124m'\u001b[39m, base_path\u001b[38;5;241m=\u001b[39mlmp_path, annotate_pseudos\u001b[38;5;241m=\u001b[39m\u001b[38;5;28;01mFalse\u001b[39;00m, interpolate_heatmap\u001b[38;5;241m=\u001b[39m\u001b[38;5;28;01mFalse\u001b[39;00m)\n",
      "File \u001b[0;32m/storage/work/ash5615/bin/.conda/envs/findtde/lib/python3.12/site-packages/findtde/tde_analysis.py:454\u001b[0m, in \u001b[0;36mevaluate_tdes\u001b[0;34m(knockout_atom_type, knockout_atom_num, run_type, base_path, annotate_pseudos, interpolate_heatmap)\u001b[0m\n\u001b[1;32m    451\u001b[0m generate_tde_line_plot(find_tde_lmp_df, im_write\u001b[38;5;241m=\u001b[39m\u001b[38;5;28;01mTrue\u001b[39;00m, im_name\u001b[38;5;241m=\u001b[39m(base_path \u001b[38;5;241m/\u001b[39m \u001b[38;5;124m'\u001b[39m\u001b[38;5;124mtde_lineplot.png\u001b[39m\u001b[38;5;124m'\u001b[39m))\n\u001b[1;32m    453\u001b[0m \u001b[38;5;66;03m# reorganize data into array and plot scatter plot\u001b[39;00m\n\u001b[0;32m--> 454\u001b[0m tde_lmp_sph_arr, tde_lmp_pseudos \u001b[38;5;241m=\u001b[39m generate_tde_sph_arr(find_tde_lmp_df, lmp_pseudo_keys, lattice_vecs\u001b[38;5;241m=\u001b[39mvasp_lattice_vecs, e_tol\u001b[38;5;241m=\u001b[39m\u001b[38;5;241m1.0\u001b[39m, ke_cut\u001b[38;5;241m=\u001b[39m\u001b[38;5;241m100\u001b[39m, polar_offset\u001b[38;5;241m=\u001b[39mangle_between([\u001b[38;5;241m1.\u001b[39m, \u001b[38;5;241m0.\u001b[39m, \u001b[38;5;241m0.\u001b[39m], vasp_lattice_vecs[\u001b[38;5;241m0\u001b[39m]))\n\u001b[1;32m    456\u001b[0m generate_tde_scatter_plot(tde_lmp_sph_arr, tde_lmp_pseudos, txt_show\u001b[38;5;241m=\u001b[39mannotate_pseudos, im_write\u001b[38;5;241m=\u001b[39m\u001b[38;5;28;01mTrue\u001b[39;00m, im_name\u001b[38;5;241m=\u001b[39m(base_path \u001b[38;5;241m/\u001b[39m \u001b[38;5;124m'\u001b[39m\u001b[38;5;124mtde_scatter.png\u001b[39m\u001b[38;5;124m'\u001b[39m))\n\u001b[1;32m    458\u001b[0m \u001b[38;5;66;03m# from Victor, read data into a (nsamples x 3) array (x, y, f(x, y)), interpolate and plot heatmap data\u001b[39;00m\n",
      "File \u001b[0;32m/storage/work/ash5615/bin/.conda/envs/findtde/lib/python3.12/site-packages/findtde/tde_analysis.py:296\u001b[0m, in \u001b[0;36mgenerate_tde_sph_arr\u001b[0;34m(tde_data_df, pseudo_keys, lattice_vecs, e_tol, ke_cut, polar_offset)\u001b[0m\n\u001b[1;32m    292\u001b[0m \u001b[38;5;28;01mdef\u001b[39;00m \u001b[38;5;21mgenerate_tde_sph_arr\u001b[39m(tde_data_df, pseudo_keys, lattice_vecs, e_tol\u001b[38;5;241m=\u001b[39m\u001b[38;5;241m1.0\u001b[39m, ke_cut\u001b[38;5;241m=\u001b[39m\u001b[38;5;241m45\u001b[39m, polar_offset\u001b[38;5;241m=\u001b[39m\u001b[38;5;241m60\u001b[39m):\n\u001b[1;32m    293\u001b[0m \u001b[38;5;250m    \u001b[39m\u001b[38;5;124;03m\"\"\"\u001b[39;00m\n\u001b[1;32m    294\u001b[0m \u001b[38;5;124;03m    Function to reorganize dataframe into a Nx3 array with spherical coordinates.\u001b[39;00m\n\u001b[1;32m    295\u001b[0m \u001b[38;5;124;03m    \"\"\"\u001b[39;00m\n\u001b[0;32m--> 296\u001b[0m     find_tde_sph_dict \u001b[38;5;241m=\u001b[39m find_tde_sph_analysis(tde_data_df, pseudo_keys\u001b[38;5;241m=\u001b[39mpseudo_keys, lattice_vecs\u001b[38;5;241m=\u001b[39mlattice_vecs, e_tol\u001b[38;5;241m=\u001b[39me_tol, ke_cut\u001b[38;5;241m=\u001b[39mke_cut)\n\u001b[1;32m    297\u001b[0m     find_tde_pseudos \u001b[38;5;241m=\u001b[39m find_tde_sph_dict\u001b[38;5;241m.\u001b[39mkeys()\n\u001b[1;32m    298\u001b[0m     find_tde_sph_arr \u001b[38;5;241m=\u001b[39m np\u001b[38;5;241m.\u001b[39mzeros((\u001b[38;5;28mlen\u001b[39m(find_tde_pseudos), \u001b[38;5;241m3\u001b[39m))\n",
      "File \u001b[0;32m/storage/work/ash5615/bin/.conda/envs/findtde/lib/python3.12/site-packages/findtde/tde_analysis.py:282\u001b[0m, in \u001b[0;36mfind_tde_sph_analysis\u001b[0;34m(find_tde_dE, pseudo_keys, lattice_vecs, e_tol, ke_cut)\u001b[0m\n\u001b[1;32m    280\u001b[0m \u001b[38;5;28mprint\u001b[39m(tde_info_dict)\n\u001b[1;32m    281\u001b[0m \u001b[38;5;28;01mif\u001b[39;00m find_tde_dE\u001b[38;5;241m.\u001b[39mcolumns[i][\u001b[38;5;241m-\u001b[39m\u001b[38;5;241m1\u001b[39m] \u001b[38;5;241m==\u001b[39m \u001b[38;5;124m'\u001b[39m\u001b[38;5;124mS\u001b[39m\u001b[38;5;124m'\u001b[39m:\n\u001b[0;32m--> 282\u001b[0m     tde_info_dict[\u001b[38;5;124m'\u001b[39m\u001b[38;5;124mphi\u001b[39m\u001b[38;5;124m'\u001b[39m], tde_info_dict[\u001b[38;5;124m'\u001b[39m\u001b[38;5;124mtheta\u001b[39m\u001b[38;5;124m'\u001b[39m] \u001b[38;5;241m=\u001b[39m pseudo_keys[find_tde_dE\u001b[38;5;241m.\u001b[39mcolumns[i]]\u001b[38;5;241m.\u001b[39mastype(\u001b[38;5;28mfloat\u001b[39m)\n\u001b[1;32m    283\u001b[0m \u001b[38;5;28;01melif\u001b[39;00m find_tde_dE\u001b[38;5;241m.\u001b[39mcolumns[i][\u001b[38;5;241m-\u001b[39m\u001b[38;5;241m1\u001b[39m] \u001b[38;5;241m==\u001b[39m \u001b[38;5;124m'\u001b[39m\u001b[38;5;124mL\u001b[39m\u001b[38;5;124m'\u001b[39m:\n\u001b[1;32m    284\u001b[0m     tde_info_dict[\u001b[38;5;124m'\u001b[39m\u001b[38;5;124mlatt_dir\u001b[39m\u001b[38;5;124m'\u001b[39m] \u001b[38;5;241m=\u001b[39m pseudo_keys[find_tde_dE\u001b[38;5;241m.\u001b[39mcolumns[i]]\n",
      "\u001b[0;31mValueError\u001b[0m: could not convert string to float: np.str_('9S')"
     ]
    }
   ],
   "source": [
    "evaluate_tdes('ga', 34, run_type='lammps', base_path=lmp_path, annotate_pseudos=False, interpolate_heatmap=False)"
   ]
  },
  {
   "cell_type": "code",
   "execution_count": null,
   "id": "a6056219-6341-44c9-9e22-188b7082a780",
   "metadata": {},
   "outputs": [],
   "source": []
  }
 ],
 "metadata": {
  "kernelspec": {
   "display_name": "findtde",
   "language": "python",
   "name": "findtde"
  },
  "language_info": {
   "codemirror_mode": {
    "name": "ipython",
    "version": 3
   },
   "file_extension": ".py",
   "mimetype": "text/x-python",
   "name": "python",
   "nbconvert_exporter": "python",
   "pygments_lexer": "ipython3",
   "version": "3.12.4"
  }
 },
 "nbformat": 4,
 "nbformat_minor": 5
}
